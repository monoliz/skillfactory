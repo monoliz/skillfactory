{
 "cells": [
  {
   "cell_type": "markdown",
   "id": "babc6c87",
   "metadata": {},
   "source": [
    "# Обработка данных с парсинга, начальное EDA тренировочного набора "
   ]
  },
  {
   "cell_type": "code",
   "execution_count": 1,
   "id": "7b58ab32",
   "metadata": {},
   "outputs": [],
   "source": [
    "#Загружаем необходимые библиотеки\n",
    "import csv\n",
    "import pandas as pd\n",
    "import seaborn as sns\n",
    "import numpy as np\n",
    "from pandas_profiling import ProfileReport\n",
    "import matplotlib.pyplot as plt\n",
    "from sklearn.preprocessing import LabelEncoder\n",
    "import os\n",
    "import warnings\n",
    "warnings.filterwarnings(\"ignore\")\n",
    "\n",
    "%matplotlib inline\n"
   ]
  },
  {
   "cell_type": "code",
   "execution_count": 2,
   "id": "030439fd",
   "metadata": {},
   "outputs": [
    {
     "data": {
      "image/png": "[encoded data removed]",
      "text/plain": [
       "<Figure size 288x72 with 1 Axes>"
      ]
     },
     "metadata": {
      "needs_background": "light"
     },
     "output_type": "display_data"
    }
   ],
   "source": [
    "#Нашла в ютубе интересную фишку присваивать цветовую гамму \n",
    "#проекту и делать графики согласно цветовой гамме, решила ее использовать здесь\n",
    "colors = ['#696969','#E6E6FA','#800080','#FFFF00']\n",
    "sns.palplot(sns.color_palette(colors))"
   ]
  },
  {
   "cell_type": "markdown",
   "id": "9711daf9",
   "metadata": {},
   "source": [
    "## 1. Первичная обработка загруженного датасета"
   ]
  },
  {
   "cell_type": "code",
   "execution_count": 3,
   "id": "a1ba9939",
   "metadata": {},
   "outputs": [],
   "source": [
    "df=pd.read_csv('all.csv',engine='python', header=1)"
   ]
  },
  {
   "cell_type": "code",
   "execution_count": 4,
   "id": "1e43148a",
   "metadata": {},
   "outputs": [
    {
     "data": {
      "text/html": [
       "<div>\n",
       "<style scoped>\n",
       "    .dataframe tbody tr th:only-of-type {\n",
       "        vertical-align: middle;\n",
       "    }\n",
       "\n",
       "    .dataframe tbody tr th {\n",
       "        vertical-align: top;\n",
       "    }\n",
       "\n",
       "    .dataframe thead th {\n",
       "        text-align: right;\n",
       "    }\n",
       "</style>\n",
       "<table border=\"1\" class=\"dataframe\">\n",
       "  <thead>\n",
       "    <tr style=\"text-align: right;\">\n",
       "      <th></th>\n",
       "      <th>0</th>\n",
       "      <th>Unnamed: 1</th>\n",
       "      <th>name</th>\n",
       "      <th>price</th>\n",
       "      <th>params</th>\n",
       "      <th>params2</th>\n",
       "      <th>Unnamed: 6</th>\n",
       "      <th>Unnamed: 7</th>\n",
       "      <th>Unnamed: 8</th>\n",
       "      <th>Unnamed: 9</th>\n",
       "      <th>Unnamed: 10</th>\n",
       "      <th>Unnamed: 11</th>\n",
       "      <th>Unnamed: 12</th>\n",
       "      <th>Unnamed: 13</th>\n",
       "      <th>Unnamed: 14</th>\n",
       "      <th>Unnamed: 15</th>\n",
       "      <th>Unnamed: 16</th>\n",
       "      <th>Unnamed: 17</th>\n",
       "      <th>Unnamed: 18</th>\n",
       "      <th>Unnamed: 19</th>\n",
       "    </tr>\n",
       "  </thead>\n",
       "  <tbody>\n",
       "    <tr>\n",
       "      <th>0</th>\n",
       "      <td>1</td>\n",
       "      <td>0.0</td>\n",
       "      <td>['BMW 3 серии 320d xDrive VI (F3x) Рестайлинг']</td>\n",
       "      <td>['1795000']</td>\n",
       "      <td>['год выпуска', '2016', 'Пробег', '87000', 'Ку...</td>\n",
       "      <td>['Отличное техническое состояние', 'Кожаный са...</td>\n",
       "      <td>NaN</td>\n",
       "      <td>NaN</td>\n",
       "      <td>NaN</td>\n",
       "      <td>NaN</td>\n",
       "      <td>NaN</td>\n",
       "      <td>NaN</td>\n",
       "      <td>NaN</td>\n",
       "      <td>NaN</td>\n",
       "      <td>NaN</td>\n",
       "      <td>NaN</td>\n",
       "      <td>NaN</td>\n",
       "      <td>NaN</td>\n",
       "      <td>NaN</td>\n",
       "      <td>NaN</td>\n",
       "    </tr>\n",
       "    <tr>\n",
       "      <th>1</th>\n",
       "      <td>2</td>\n",
       "      <td>1.0</td>\n",
       "      <td>['Toyota ISis I Рестайлинг']</td>\n",
       "      <td>['870000']</td>\n",
       "      <td>['год выпуска', '2011', 'Пробег', '136400', 'К...</td>\n",
       "      <td>['Аукционный авто с родным пробегом. ОТС. Я ед...</td>\n",
       "      <td>NaN</td>\n",
       "      <td>NaN</td>\n",
       "      <td>NaN</td>\n",
       "      <td>NaN</td>\n",
       "      <td>NaN</td>\n",
       "      <td>NaN</td>\n",
       "      <td>NaN</td>\n",
       "      <td>NaN</td>\n",
       "      <td>NaN</td>\n",
       "      <td>NaN</td>\n",
       "      <td>NaN</td>\n",
       "      <td>NaN</td>\n",
       "      <td>NaN</td>\n",
       "      <td>NaN</td>\n",
       "    </tr>\n",
       "  </tbody>\n",
       "</table>\n",
       "</div>"
      ],
      "text/plain": [
       "   0  Unnamed: 1                                             name  \\\n",
       "0  1         0.0  ['BMW 3 серии 320d xDrive VI (F3x) Рестайлинг']   \n",
       "1  2         1.0                     ['Toyota ISis I Рестайлинг']   \n",
       "\n",
       "         price                                             params  \\\n",
       "0  ['1795000']  ['год выпуска', '2016', 'Пробег', '87000', 'Ку...   \n",
       "1   ['870000']  ['год выпуска', '2011', 'Пробег', '136400', 'К...   \n",
       "\n",
       "                                             params2 Unnamed: 6 Unnamed: 7  \\\n",
       "0  ['Отличное техническое состояние', 'Кожаный са...        NaN        NaN   \n",
       "1  ['Аукционный авто с родным пробегом. ОТС. Я ед...        NaN        NaN   \n",
       "\n",
       "  Unnamed: 8 Unnamed: 9 Unnamed: 10 Unnamed: 11 Unnamed: 12 Unnamed: 13  \\\n",
       "0        NaN        NaN         NaN         NaN         NaN         NaN   \n",
       "1        NaN        NaN         NaN         NaN         NaN         NaN   \n",
       "\n",
       "  Unnamed: 14 Unnamed: 15 Unnamed: 16 Unnamed: 17 Unnamed: 18 Unnamed: 19  \n",
       "0         NaN         NaN         NaN         NaN         NaN         NaN  \n",
       "1         NaN         NaN         NaN         NaN         NaN         NaN  "
      ]
     },
     "execution_count": 4,
     "metadata": {},
     "output_type": "execute_result"
    }
   ],
   "source": [
    "df.head(2)"
   ]
  },
  {
   "cell_type": "code",
   "execution_count": 5,
   "id": "651adf3b",
   "metadata": {},
   "outputs": [
    {
     "data": {
      "text/plain": [
       "0                  0\n",
       "Unnamed: 1        39\n",
       "name               0\n",
       "price              0\n",
       "params             0\n",
       "params2         2529\n",
       "Unnamed: 6     50976\n",
       "Unnamed: 7     50976\n",
       "Unnamed: 8     50976\n",
       "Unnamed: 9     50976\n",
       "Unnamed: 10    50976\n",
       "Unnamed: 11    50976\n",
       "Unnamed: 12    50976\n",
       "Unnamed: 13    50976\n",
       "Unnamed: 14    50976\n",
       "Unnamed: 15    50976\n",
       "Unnamed: 16    50976\n",
       "Unnamed: 17    50976\n",
       "Unnamed: 18    50976\n",
       "Unnamed: 19    51021\n",
       "dtype: int64"
      ]
     },
     "execution_count": 5,
     "metadata": {},
     "output_type": "execute_result"
    }
   ],
   "source": [
    "df.isnull().sum()"
   ]
  },
  {
   "cell_type": "markdown",
   "id": "c3ccd6c6",
   "metadata": {},
   "source": [
    "*Сразу удалю колонки с очевидными пропусками*"
   ]
  },
  {
   "cell_type": "code",
   "execution_count": 6,
   "id": "07abe7c1",
   "metadata": {},
   "outputs": [],
   "source": [
    "df=df.drop(columns=[ 'Unnamed: 1', 'Unnamed: 6',\n",
    "       'Unnamed: 7', 'Unnamed: 8', 'Unnamed: 9', 'Unnamed: 10', 'Unnamed: 11',\n",
    "       'Unnamed: 12', 'Unnamed: 13', 'Unnamed: 14', 'Unnamed: 15',\n",
    "       'Unnamed: 16', 'Unnamed: 17', 'Unnamed: 18', 'Unnamed: 19'], axis=True)"
   ]
  },
  {
   "cell_type": "markdown",
   "id": "44601946",
   "metadata": {},
   "source": [
    "*Удалю дубликаты, так как парсила все  по частям, и вероятность дубликатов велика*"
   ]
  },
  {
   "cell_type": "code",
   "execution_count": 7,
   "id": "eea145e7",
   "metadata": {},
   "outputs": [],
   "source": [
    "df = df.drop_duplicates(['name', 'price', 'params', 'params2'], keep='last')"
   ]
  },
  {
   "cell_type": "markdown",
   "id": "c5dc3f92",
   "metadata": {},
   "source": [
    "*Разделю столбец \"params\", там лежат все нужные нам признаки*"
   ]
  },
  {
   "cell_type": "code",
   "execution_count": 8,
   "id": "432cebf9",
   "metadata": {},
   "outputs": [],
   "source": [
    "df1= df['params'].str.split(',',expand=True)\n",
    "df=df.join(df1, how='left',sort=False)"
   ]
  },
  {
   "cell_type": "code",
   "execution_count": 9,
   "id": "62d55699",
   "metadata": {},
   "outputs": [
    {
     "data": {
      "text/html": [
       "<div>\n",
       "<style scoped>\n",
       "    .dataframe tbody tr th:only-of-type {\n",
       "        vertical-align: middle;\n",
       "    }\n",
       "\n",
       "    .dataframe tbody tr th {\n",
       "        vertical-align: top;\n",
       "    }\n",
       "\n",
       "    .dataframe thead th {\n",
       "        text-align: right;\n",
       "    }\n",
       "</style>\n",
       "<table border=\"1\" class=\"dataframe\">\n",
       "  <thead>\n",
       "    <tr style=\"text-align: right;\">\n",
       "      <th></th>\n",
       "      <th>0</th>\n",
       "      <th>name</th>\n",
       "      <th>price</th>\n",
       "      <th>params</th>\n",
       "      <th>params2</th>\n",
       "      <th>0</th>\n",
       "      <th>1</th>\n",
       "      <th>2</th>\n",
       "      <th>3</th>\n",
       "      <th>4</th>\n",
       "      <th>...</th>\n",
       "      <th>244</th>\n",
       "      <th>245</th>\n",
       "      <th>246</th>\n",
       "      <th>247</th>\n",
       "      <th>248</th>\n",
       "      <th>249</th>\n",
       "      <th>250</th>\n",
       "      <th>251</th>\n",
       "      <th>252</th>\n",
       "      <th>253</th>\n",
       "    </tr>\n",
       "  </thead>\n",
       "  <tbody>\n",
       "    <tr>\n",
       "      <th>0</th>\n",
       "      <td>1</td>\n",
       "      <td>['BMW 3 серии 320d xDrive VI (F3x) Рестайлинг']</td>\n",
       "      <td>['1795000']</td>\n",
       "      <td>['год выпуска', '2016', 'Пробег', '87000', 'Ку...</td>\n",
       "      <td>['Отличное техническое состояние', 'Кожаный са...</td>\n",
       "      <td>['год выпуска'</td>\n",
       "      <td>'2016'</td>\n",
       "      <td>'Пробег'</td>\n",
       "      <td>'87000'</td>\n",
       "      <td>'Кузов'</td>\n",
       "      <td>...</td>\n",
       "      <td>None</td>\n",
       "      <td>None</td>\n",
       "      <td>None</td>\n",
       "      <td>None</td>\n",
       "      <td>None</td>\n",
       "      <td>None</td>\n",
       "      <td>None</td>\n",
       "      <td>None</td>\n",
       "      <td>None</td>\n",
       "      <td>None</td>\n",
       "    </tr>\n",
       "    <tr>\n",
       "      <th>1</th>\n",
       "      <td>2</td>\n",
       "      <td>['Toyota ISis I Рестайлинг']</td>\n",
       "      <td>['870000']</td>\n",
       "      <td>['год выпуска', '2011', 'Пробег', '136400', 'К...</td>\n",
       "      <td>['Аукционный авто с родным пробегом. ОТС. Я ед...</td>\n",
       "      <td>['год выпуска'</td>\n",
       "      <td>'2011'</td>\n",
       "      <td>'Пробег'</td>\n",
       "      <td>'136400'</td>\n",
       "      <td>'Кузов'</td>\n",
       "      <td>...</td>\n",
       "      <td>None</td>\n",
       "      <td>None</td>\n",
       "      <td>None</td>\n",
       "      <td>None</td>\n",
       "      <td>None</td>\n",
       "      <td>None</td>\n",
       "      <td>None</td>\n",
       "      <td>None</td>\n",
       "      <td>None</td>\n",
       "      <td>None</td>\n",
       "    </tr>\n",
       "  </tbody>\n",
       "</table>\n",
       "<p>2 rows × 259 columns</p>\n",
       "</div>"
      ],
      "text/plain": [
       "   0                                             name        price  \\\n",
       "0  1  ['BMW 3 серии 320d xDrive VI (F3x) Рестайлинг']  ['1795000']   \n",
       "1  2                     ['Toyota ISis I Рестайлинг']   ['870000']   \n",
       "\n",
       "                                              params  \\\n",
       "0  ['год выпуска', '2016', 'Пробег', '87000', 'Ку...   \n",
       "1  ['год выпуска', '2011', 'Пробег', '136400', 'К...   \n",
       "\n",
       "                                             params2               0        1  \\\n",
       "0  ['Отличное техническое состояние', 'Кожаный са...  ['год выпуска'   '2016'   \n",
       "1  ['Аукционный авто с родным пробегом. ОТС. Я ед...  ['год выпуска'   '2011'   \n",
       "\n",
       "           2          3         4  ...   244   245   246   247   248   249  \\\n",
       "0   'Пробег'    '87000'   'Кузов'  ...  None  None  None  None  None  None   \n",
       "1   'Пробег'   '136400'   'Кузов'  ...  None  None  None  None  None  None   \n",
       "\n",
       "    250   251   252   253  \n",
       "0  None  None  None  None  \n",
       "1  None  None  None  None  \n",
       "\n",
       "[2 rows x 259 columns]"
      ]
     },
     "execution_count": 9,
     "metadata": {},
     "output_type": "execute_result"
    }
   ],
   "source": [
    "df.head(2)"
   ]
  },
  {
   "cell_type": "markdown",
   "id": "6dc0166b",
   "metadata": {},
   "source": [
    "****Получилось большое количество столбцов, выберу адекватные*, на мой взгляд, и добавлю в новый датафрейм****\n",
    "*под адекватными я имела в виду те, которые несут хоть какую-либо информацию кроме None"
   ]
  },
  {
   "cell_type": "code",
   "execution_count": 10,
   "id": "8c725260",
   "metadata": {},
   "outputs": [],
   "source": [
    "data=pd.DataFrame\n",
    "data=df[['name','price',1,3,5,7,9,10,12,14,16,18,20,22,24,26,28,'params2']]"
   ]
  },
  {
   "cell_type": "markdown",
   "id": "7f76d541",
   "metadata": {},
   "source": [
    "## 2. Работа с новый датафреймом. Обработка признаков"
   ]
  },
  {
   "cell_type": "markdown",
   "id": "83652c6d",
   "metadata": {},
   "source": [
    "*Для начала уберу квадратные скобки и кавычки и переименую названия столбцов в понятные*"
   ]
  },
  {
   "cell_type": "code",
   "execution_count": 11,
   "id": "802d6686",
   "metadata": {},
   "outputs": [],
   "source": [
    "for i, col in enumerate(data.columns):\n",
    "    data.iloc[:, i] = data.iloc[:, i].apply(str).str.replace(']', '').str.replace('[','')#.replace(\" ' \\'\", \" \")\n",
    "for i, col in enumerate(data.columns):\n",
    "    data.iloc[:, i] = data.iloc[:, i].apply(str).str.replace('\\'', '')#.replace(\"''\", \" \").replace(\" ' \\'\", \" \")"
   ]
  },
  {
   "cell_type": "code",
   "execution_count": 12,
   "id": "0f798aae",
   "metadata": {
    "scrolled": true
   },
   "outputs": [],
   "source": [
    "data.rename(columns={#'params2': 'comment', #комментарий продавца \n",
    "                     1: 'year',  #год\n",
    "                     3: 'mileage', #пробег\n",
    "                     5: 'type', #тип кузова\n",
    "                     7: 'color', #цвет\n",
    "                    9: 'engAndPower', #цвет\n",
    "                     10:'engine', #вид топлива\n",
    "                     12:'tax', #налог\n",
    "                     14:'transmission', #коробка передач\n",
    "                     16:'drive_unit',# привод\n",
    "                    18:'wheel', #положение руля\n",
    "                     20:'v_condition', #состояние\n",
    "                    22:'owners', #кол-во владельцев\n",
    "                     24:'passport', #наличие тех.паспорта\n",
    "                     26:'customs_clearance', #растаможен или нет\n",
    "                     27:'exchange' ,#обмен или нет\n",
    "               \n",
    "                    \n",
    "                    \n",
    "                    }, inplace=True)"
   ]
  },
  {
   "cell_type": "code",
   "execution_count": null,
   "id": "57256635",
   "metadata": {},
   "outputs": [],
   "source": [
    "#df.loc[pd.isnull(df).any(1), :].index.values"
   ]
  },
  {
   "cell_type": "code",
   "execution_count": null,
   "id": "ac9dc75a",
   "metadata": {},
   "outputs": [],
   "source": [
    "#pd.options.display.max_colwidth =1000"
   ]
  },
  {
   "cell_type": "markdown",
   "id": "7f543e83",
   "metadata": {},
   "source": [
    "### 2.1. Анализ пропусков"
   ]
  },
  {
   "cell_type": "code",
   "execution_count": null,
   "id": "ab9974df",
   "metadata": {},
   "outputs": [],
   "source": [
    "data.isnull().sum()"
   ]
  },
  {
   "cell_type": "code",
   "execution_count": null,
   "id": "978d0dea",
   "metadata": {},
   "outputs": [],
   "source": [
    "data[data['name']=='']#.value_counts()"
   ]
  },
  {
   "cell_type": "markdown",
   "id": "60ebc2b1",
   "metadata": {},
   "source": [
    "***Из-за того, что убрала кавычки и скобки мои пропуски \"затерлись\", нужно сделать так, чтобы они стали опять видны***"
   ]
  },
  {
   "cell_type": "code",
   "execution_count": null,
   "id": "c1fdd681",
   "metadata": {
    "scrolled": true
   },
   "outputs": [],
   "source": [
    "data.replace(to_replace='None', value=np.nan, inplace=True)"
   ]
  },
  {
   "cell_type": "code",
   "execution_count": null,
   "id": "ab00b505",
   "metadata": {},
   "outputs": [],
   "source": [
    "data.replace(to_replace='nan', value=np.nan, inplace=True)"
   ]
  },
  {
   "cell_type": "code",
   "execution_count": null,
   "id": "aeeb10b2",
   "metadata": {},
   "outputs": [],
   "source": [
    "data.replace(to_replace='', value=np.nan, inplace=True)"
   ]
  },
  {
   "cell_type": "code",
   "execution_count": null,
   "id": "740e30fe",
   "metadata": {},
   "outputs": [],
   "source": [
    "cols = data.columns[:30] # первые 30 колонок\n",
    "# определяем цвета \n",
    "# желтый - пропущенные данные, синий - не пропущенные\n",
    "sns.heatmap(data[cols].isnull(), cmap=sns.color_palette(colors))"
   ]
  },
  {
   "cell_type": "markdown",
   "id": "602fd1ee",
   "metadata": {},
   "source": [
    "**Удалю строки с пропусками, которых в строке встречается большинство**"
   ]
  },
  {
   "cell_type": "code",
   "execution_count": null,
   "id": "5aa16bf3",
   "metadata": {},
   "outputs": [],
   "source": [
    "data = data.dropna(thresh=len(data.columns)//2+1)"
   ]
  },
  {
   "cell_type": "code",
   "execution_count": null,
   "id": "97af711d",
   "metadata": {},
   "outputs": [],
   "source": [
    "cols = data.columns[:30] # первые 30 колонок\n",
    "# определяем цвета \n",
    "# желтый - пропущенные данные, синий - не пропущенные \n",
    "sns.heatmap(data[cols].isnull(), cmap=sns.color_palette(colors))"
   ]
  },
  {
   "cell_type": "code",
   "execution_count": null,
   "id": "43f17e32",
   "metadata": {},
   "outputs": [],
   "source": [
    "data.isnull().sum()"
   ]
  },
  {
   "cell_type": "markdown",
   "id": "e857f16b",
   "metadata": {},
   "source": [
    "**Далее я буду заполнять пропуски, просматривая каждый признак**"
   ]
  },
  {
   "cell_type": "markdown",
   "id": "5902b7e6",
   "metadata": {},
   "source": [
    "### Марка автомобиля ###"
   ]
  },
  {
   "cell_type": "markdown",
   "id": "f4a6530f",
   "metadata": {},
   "source": [
    "Создаю столбец бренд автомобиля, то есть группирую, например все Nissan в бренд NISSAN"
   ]
  },
  {
   "cell_type": "code",
   "execution_count": 13,
   "id": "a58d6f3f",
   "metadata": {},
   "outputs": [],
   "source": [
    "data['brand']=data['name'].apply(lambda x: 'VOLKSWAGEN' if 'Volks' in x\n",
    "                              else ('BMW' if 'BMW' in x else\n",
    "                                    ('MERCEDES' if 'Merce' in x else \n",
    "                                     ('TOYOTA' if 'Toyot' in x else \n",
    "                                     ('RENAULT' if 'Renau' in x else \n",
    "                                     ('FORD' if 'Ford' in x else \n",
    "                                     ('KIA' if 'Kia' in x else \n",
    "                                      ('NISSAN' if 'Nissan' in x else \n",
    "                                       ('SKODA' if 'Skoda' in x else \n",
    "                                        ('IRAN' if 'Iran' in x else \n",
    "                                         ('BMW' if 'MINI' in x else \n",
    "                                          ('TESLA' if 'Tesla' in x else \n",
    "                                            ('AUDI' if 'Audi' in x else \n",
    "                                             ('CITROEN' if 'Citroen' in x else\n",
    "                                               ('PORSCHE' if 'Porsche' in x else \n",
    "                        ('LEXUS' if 'Lexus' in x else \n",
    "                          ('HYUNDAI' if 'Hyundai' in x else \n",
    "                            ('CHRYSLER' if 'Chrysler' in x else \n",
    "                              ('LAMBORGHINI' if 'Lamborghini' in x else \n",
    "                                ('HONDA' if 'Honda' in x else \n",
    "                                 ('MAZDA' if 'Mazda' in x else\n",
    "                                  ('CADILLAC' if 'Cadillac' in x else\n",
    "                                   ('JAGUAR' if 'Jaguar' in x else\n",
    "                                    ('SUBARU' if 'Subaru' in x else\n",
    "                                     ('MITSUBISHI' if 'Mitsubishi' in x else\n",
    "                                      ('OPEL' if 'Opel' in x else\n",
    "                                       ('DONGFENG' if 'DongFeng' in x else \n",
    "                                        ('SEAT' if 'SEAT' in x else\n",
    "                                         ('ГАЗ' if 'ГАЗ' in x else\n",
    "                                          ('HAIMA' if 'Haima' in x else\n",
    "                                           ('INFINITI' if 'Infiniti' in x else\n",
    "                                            ('CHEVROLET' if 'Chevrolet' in x else\n",
    "                                             ('PEUGEOT' if 'Peuge' in x else\n",
    "                                              ('VOLVO' if 'Volvo' in x else\n",
    "                                               ('DODGE' if 'Dodge' in x else\n",
    "                                                ('CHEVROLET' if 'Chevrolet' in x else\n",
    "            ('LADA' if 'LADA' in x else\n",
    "             ('GEELY' if 'Geely' in x else\n",
    "              ('SSANGYONG' if 'SsangYong' in x else\n",
    "               ('LAND ROVER' if 'Land Rover' in x else\n",
    "                ('SMART' if 'Smart Forfour' in x else\n",
    "                 ('SUZUKI' if 'Suzuki' in x else\n",
    "                  ('HAVAL' if 'Haval' in x else\n",
    "                 ('CHERY' if 'Chery' in x else\n",
    "                  ('ЗАЗ' if 'ЗАЗ' in x else\n",
    "                   ('ИЖ' if 'ИЖ' in x else\n",
    "                    ('FIAT' if 'Fiat' in x else\n",
    "                     ('LIFAN' if 'Lifan' in x else\n",
    "                      ('ACURA' if 'Acura' in x else\n",
    "                    ('BENTLEY' if 'Bentley' in x else\n",
    "                   ('GENESIS' if 'Genesis' in x else\n",
    "                     ('JEEP' if 'Jeep' in x else\n",
    "                       ('ISUZU' if 'Isuzu' in x else\n",
    "                        ('ROVER' if 'Rover' in x else\n",
    "                         ('GWM' if 'Great Wall Wingle' in x else\n",
    "                          ('ISUZU' if 'Isuzu' in x else\n",
    "                           ('GWM' if 'Great Wall Wingle' in x else\n",
    "                            ('BUICK REGAL' if 'Buick' in x else\n",
    "                             ('CITROEN' if 'DS 3' in x else\n",
    "                              ('BMW' if 'Alpina' in x else\n",
    "                              ('FERRARI' if 'Ferrari' in x else\n",
    "                                ('FERRARI' if 'Ferrari' in x else\n",
    "                                  ('FERRARI' if 'Ferrari' in x else\n",
    "                                    ('ROLLS-ROYCE' if 'Rolls-Royce' in x else\n",
    "                                    ('RAVON' if 'Ravon' in x else \n",
    "                                      ('FAW' if 'FAW' in x else \n",
    "                                        ('DW' if 'DW' in x else \n",
    "                                         ('HAFEI' if 'Hafei' in x else\n",
    "                                          ('VORTEX' if 'Vortex' in x else\n",
    "                                           ('LINCOLN' if 'Lincoln' in x else \n",
    "                                            ('УАЗ' if 'УАЗ' in x else\n",
    "                                             ('RAM' if 'RAM' in x else \n",
    "                                              ('ЗИС' if 'ЗиС' in x else\n",
    "                                               ('JAC' if 'JAC' in x else\n",
    "                                                ('MASERATI' if 'Maserati' in x else\n",
    "                                                 ('CHANGAN' if 'Changan' in x else\n",
    "               x))))))))))))))))))))))))))))))))))))))))))))))))))))))))))))))))))))))))))))"
   ]
  },
  {
   "cell_type": "code",
   "execution_count": 14,
   "id": "036a73a9",
   "metadata": {},
   "outputs": [
    {
     "data": {
      "text/plain": [
       "0"
      ]
     },
     "execution_count": 14,
     "metadata": {},
     "output_type": "execute_result"
    }
   ],
   "source": [
    "data.brand.isnull().sum()"
   ]
  },
  {
   "cell_type": "code",
   "execution_count": 15,
   "id": "61209dd7",
   "metadata": {},
   "outputs": [
    {
     "data": {
      "text/plain": [
       "BMW                              8833\n",
       "VOLKSWAGEN                       7691\n",
       "MERCEDES                         4517\n",
       "TOYOTA                           1903\n",
       "HYUNDAI                          1831\n",
       "                                 ... \n",
       "Saab 9-5 I Рестайлинг               1\n",
       "DW                                  1\n",
       "Great Wall Deer  G5                 1\n",
       "BUICK REGAL                         1\n",
       "Alfa Romeo 156 I Рестайлинг 2       1\n",
       "Name: brand, Length: 106, dtype: int64"
      ]
     },
     "execution_count": 15,
     "metadata": {},
     "output_type": "execute_result"
    }
   ],
   "source": [
    "data.brand.value_counts()"
   ]
  },
  {
   "cell_type": "markdown",
   "id": "6c42a056",
   "metadata": {},
   "source": [
    "*Пропусков здесь нет*"
   ]
  },
  {
   "cell_type": "markdown",
   "id": "33ba2917",
   "metadata": {},
   "source": [
    "### Цена  (целевая переменная) ###"
   ]
  },
  {
   "cell_type": "markdown",
   "id": "b79d38c7",
   "metadata": {},
   "source": [
    "Данный признак является непросредственно таргетом, проанализирую на выбросы и на шум"
   ]
  },
  {
   "cell_type": "code",
   "execution_count": 16,
   "id": "dc5115aa",
   "metadata": {
    "scrolled": true
   },
   "outputs": [],
   "source": [
    "data['price']=pd.to_numeric(data['price'], errors='coerce').fillna(0).astype(int)"
   ]
  },
  {
   "cell_type": "code",
   "execution_count": 17,
   "id": "80f23a4c",
   "metadata": {},
   "outputs": [
    {
     "data": {
      "text/plain": [
       "0        1795000\n",
       "1         870000\n",
       "3        1635000\n",
       "4         849000\n",
       "5         188000\n",
       "          ...   \n",
       "61287          0\n",
       "61288    2275000\n",
       "61289    3090000\n",
       "61290          0\n",
       "61291     545000\n",
       "Name: price, Length: 36362, dtype: int64"
      ]
     },
     "execution_count": 17,
     "metadata": {},
     "output_type": "execute_result"
    }
   ],
   "source": [
    "data.price"
   ]
  },
  {
   "cell_type": "markdown",
   "id": "79aceab8",
   "metadata": {},
   "source": [
    "**Проанализирую выбросы в цене**"
   ]
  },
  {
   "cell_type": "code",
   "execution_count": 18,
   "id": "108be43e",
   "metadata": {},
   "outputs": [
    {
     "data": {
      "image/png": "[encoded data removed]",
      "text/plain": [
       "<Figure size 1080x360 with 2 Axes>"
      ]
     },
     "metadata": {
      "needs_background": "light"
     },
     "output_type": "display_data"
    }
   ],
   "source": [
    "plt.figure(figsize=(15,5))\n",
    "plt.subplot(121)\n",
    "sns.distplot(data.price.values, bins=50, color=colors[2])\n",
    "plt.title('Распределение целевой переменной - price',fontsize=15)\n",
    "plt.xlabel('Значение в RUB'); plt.ylabel('Кол-во');\n",
    "\n",
    "plt.subplot(122)\n",
    "sns.boxplot(data.price.values, color=colors[2])\n",
    "plt.title('Распределение целевой переменной - price',fontsize=15)\n",
    "plt.xlabel('Значение в RUB'); "
   ]
  },
  {
   "cell_type": "code",
   "execution_count": 19,
   "id": "17f578ae",
   "metadata": {},
   "outputs": [
    {
     "data": {
      "text/plain": [
       "count    3.636200e+04\n",
       "mean     1.787601e+06\n",
       "std      2.417013e+06\n",
       "min      0.000000e+00\n",
       "25%      4.950000e+05\n",
       "50%      1.139000e+06\n",
       "75%      2.270000e+06\n",
       "max      5.500000e+07\n",
       "Name: price, dtype: float64"
      ]
     },
     "execution_count": 19,
     "metadata": {},
     "output_type": "execute_result"
    }
   ],
   "source": [
    "data.price.describe()"
   ]
  },
  {
   "cell_type": "markdown",
   "id": "130e65ad",
   "metadata": {},
   "source": [
    "<blockquote>Решила удалить строки с нулевой ценой, так как их немного</blockquote> "
   ]
  },
  {
   "cell_type": "code",
   "execution_count": 20,
   "id": "d9e7e22c",
   "metadata": {},
   "outputs": [],
   "source": [
    "data=data.drop((data.loc[data['price']==0]).index)"
   ]
  },
  {
   "cell_type": "code",
   "execution_count": 21,
   "id": "fe89ccdf",
   "metadata": {},
   "outputs": [
    {
     "data": {
      "image/png": "[encoded data removed]",
      "text/plain": [
       "<Figure size 1080x360 with 2 Axes>"
      ]
     },
     "metadata": {
      "needs_background": "light"
     },
     "output_type": "display_data"
    }
   ],
   "source": [
    "plt.figure(figsize=(15,5))\n",
    "plt.subplot(121)\n",
    "sns.distplot(data.price.values, bins=50, color=colors[2])\n",
    "plt.title('Распределение целевой переменной - price',fontsize=15)\n",
    "plt.xlabel('Значение в RUB'); plt.ylabel('Кол-во');\n",
    "\n",
    "plt.subplot(122)\n",
    "sns.boxplot(data.price.values, color=colors[2])\n",
    "plt.title('Распределение целевой переменной - price',fontsize=15)\n",
    "plt.xlabel('Значение в RUB'); "
   ]
  },
  {
   "cell_type": "code",
   "execution_count": null,
   "id": "9267a71f",
   "metadata": {},
   "outputs": [],
   "source": []
  },
  {
   "cell_type": "code",
   "execution_count": null,
   "id": "b3899638",
   "metadata": {},
   "outputs": [],
   "source": [
    "#cols = data.columns[:30] # первые 30 колонок\n",
    "# определяем цвета \n",
    "# желтый - пропущенные данные, синий - не пропущенные\n",
    "#colours = ['#000099', '#ffff00'] \n",
    "#sns.heatmap(data[cols].isnull(), cmap=sns.color_palette(colours))"
   ]
  },
  {
   "cell_type": "markdown",
   "id": "56f33ce3",
   "metadata": {},
   "source": [
    "Решила разбить по группа цены, мне так легче увидеть аномалии"
   ]
  },
  {
   "cell_type": "code",
   "execution_count": 24,
   "id": "afb0e04a",
   "metadata": {},
   "outputs": [],
   "source": [
    "data['price_group']=pd.qcut(data['price'],10)"
   ]
  },
  {
   "cell_type": "code",
   "execution_count": 25,
   "id": "4a77d98f",
   "metadata": {},
   "outputs": [
    {
     "data": {
      "text/plain": [
       "price_group\n",
       "(19999.999, 450000.0]      3146\n",
       "(450000.0, 649000.0]       3105\n",
       "(649000.0, 847000.0]       3063\n",
       "(847000.0, 1099000.0]      3180\n",
       "(1099000.0, 1375977.0]     3024\n",
       "(1375977.0, 1725000.0]     3120\n",
       "(1725000.0, 2225000.0]     3090\n",
       "(2225000.0, 2987400.0]     3099\n",
       "(2987400.0, 4250163.4]     3103\n",
       "(4250163.4, 55000000.0]    3104\n",
       "Name: price, dtype: int64"
      ]
     },
     "execution_count": 25,
     "metadata": {},
     "output_type": "execute_result"
    }
   ],
   "source": [
    "data.groupby(['price_group'])['price'].agg('count')"
   ]
  },
  {
   "cell_type": "markdown",
   "id": "7c3fddbf",
   "metadata": {},
   "source": [
    "### Год выпуска"
   ]
  },
  {
   "cell_type": "code",
   "execution_count": 26,
   "id": "20db0333",
   "metadata": {},
   "outputs": [
    {
     "data": {
      "text/plain": [
       " 2018                                        2635\n",
       " 2017                                        2311\n",
       " 2016                                        2121\n",
       " 2019                                        2084\n",
       " 2013                                        1976\n",
       "                                             ... \n",
       " птс оригинал. Пройдено т.о. На 21т.км.         1\n",
       " Автомобиль с полным НДС !                      1\n",
       " •       Хорошее техническое состояние          1\n",
       " есть всё что можно                             1\n",
       " Отличное внешнее и техническое состояние       1\n",
       "Name: year, Length: 1990, dtype: int64"
      ]
     },
     "execution_count": 26,
     "metadata": {},
     "output_type": "execute_result"
    }
   ],
   "source": [
    "data.year.value_counts()"
   ]
  },
  {
   "cell_type": "markdown",
   "id": "a5ca1936",
   "metadata": {},
   "source": [
    "  "
   ]
  },
  {
   "cell_type": "code",
   "execution_count": 27,
   "id": "97b13e10",
   "metadata": {},
   "outputs": [],
   "source": [
    "data['year']=pd.to_numeric(data['year'], errors='coerce').fillna(0).astype(int)"
   ]
  },
  {
   "cell_type": "code",
   "execution_count": 34,
   "id": "d12b5b16",
   "metadata": {},
   "outputs": [
    {
     "data": {
      "text/plain": [
       "count    24756.000000\n",
       "mean      2013.761755\n",
       "std          5.624810\n",
       "min       1948.000000\n",
       "25%       2012.000000\n",
       "50%       2015.000000\n",
       "75%       2018.000000\n",
       "max       2021.000000\n",
       "Name: year, dtype: float64"
      ]
     },
     "execution_count": 34,
     "metadata": {},
     "output_type": "execute_result"
    }
   ],
   "source": [
    "data.year.describe()"
   ]
  },
  {
   "cell_type": "markdown",
   "id": "21787a95",
   "metadata": {},
   "source": [
    "**Сделаю отбор адекватных лет**"
   ]
  },
  {
   "cell_type": "code",
   "execution_count": 35,
   "id": "fa294e9b",
   "metadata": {},
   "outputs": [
    {
     "data": {
      "text/plain": [
       "<AxesSubplot:>"
      ]
     },
     "execution_count": 35,
     "metadata": {},
     "output_type": "execute_result"
    },
    {
     "data": {
      "image/png": "[encoded data removed]",
      "text/plain": [
       "<Figure size 432x288 with 1 Axes>"
      ]
     },
     "metadata": {
      "needs_background": "light"
     },
     "output_type": "display_data"
    }
   ],
   "source": [
    "import seaborn as sns\n",
    "import matplotlib.pyplot as plt\n",
    "\n",
    "sns.boxplot(data=data['year'],color=colors[2])"
   ]
  },
  {
   "cell_type": "code",
   "execution_count": 29,
   "id": "0a83266e",
   "metadata": {},
   "outputs": [],
   "source": [
    "data=data.drop((data.loc[data['year']<1945]).index)"
   ]
  },
  {
   "cell_type": "code",
   "execution_count": 30,
   "id": "67e136bb",
   "metadata": {},
   "outputs": [],
   "source": [
    "data=data.drop((data.loc[data['year']>2021]).index)"
   ]
  },
  {
   "cell_type": "markdown",
   "id": "c625c259",
   "metadata": {},
   "source": [
    "Проверяю"
   ]
  },
  {
   "cell_type": "code",
   "execution_count": 36,
   "id": "514a4057",
   "metadata": {},
   "outputs": [],
   "source": [
    "data['year_group']=pd.qcut(data['year'],5)"
   ]
  },
  {
   "cell_type": "code",
   "execution_count": 37,
   "id": "bd39e0f6",
   "metadata": {},
   "outputs": [
    {
     "data": {
      "text/plain": [
       "year_group\n",
       "(1947.999, 2011.0]    6147\n",
       "(2011.0, 2013.0]      3916\n",
       "(2013.0, 2016.0]      5627\n",
       "(2016.0, 2018.0]      4946\n",
       "(2018.0, 2021.0]      4120\n",
       "Name: price_group, dtype: int64"
      ]
     },
     "execution_count": 37,
     "metadata": {},
     "output_type": "execute_result"
    }
   ],
   "source": [
    "data.groupby(['year_group'])['price_group'].agg('count')"
   ]
  },
  {
   "cell_type": "markdown",
   "id": "de599cc7",
   "metadata": {},
   "source": [
    "### Расположение руля"
   ]
  },
  {
   "cell_type": "code",
   "execution_count": 38,
   "id": "4d86d2fc",
   "metadata": {},
   "outputs": [
    {
     "data": {
      "text/plain": [
       " Левый                     22932\n",
       " передний                    608\n",
       " полный                      522\n",
       " Не требует ремонта          403\n",
       " Руль                        119\n",
       " Правый                      105\n",
       " задний                       47\n",
       " Привод                       10\n",
       " Состояние                     9\n",
       " VIN: XWEHM511AD0000192        1\n",
       "Name: wheel, dtype: int64"
      ]
     },
     "execution_count": 38,
     "metadata": {},
     "output_type": "execute_result"
    }
   ],
   "source": [
    "data.wheel.value_counts()"
   ]
  },
  {
   "cell_type": "markdown",
   "id": "af1eb45c",
   "metadata": {},
   "source": [
    "*Проанализировав в таблице строки, где расположение руля не указано или заполнено некорректно, решила поставить на этих местах популярную категорию, т.е. расположение руля слева*"
   ]
  },
  {
   "cell_type": "code",
   "execution_count": 39,
   "id": "6b302d56",
   "metadata": {},
   "outputs": [],
   "source": [
    "data['wheel']=data['wheel'].apply(lambda x: 'Левый' if 'Лев' in x\n",
    "                             else ('Правый' if 'Прав' in x\n",
    "                        else  'Левый' ))"
   ]
  },
  {
   "cell_type": "code",
   "execution_count": 40,
   "id": "3c6d1a4c",
   "metadata": {},
   "outputs": [
    {
     "data": {
      "text/plain": [
       "Левый     24651\n",
       "Правый      105\n",
       "Name: wheel, dtype: int64"
      ]
     },
     "execution_count": 40,
     "metadata": {},
     "output_type": "execute_result"
    }
   ],
   "source": [
    "data['wheel'].value_counts()"
   ]
  },
  {
   "cell_type": "markdown",
   "id": "0cad60ca",
   "metadata": {},
   "source": [
    "### Вид топлива"
   ]
  },
  {
   "cell_type": "code",
   "execution_count": 41,
   "id": "b1dbb659",
   "metadata": {},
   "outputs": [
    {
     "data": {
      "text/plain": [
       " Бензин                               18020\n",
       " Дизель                                6596\n",
       " Гибрид                                  80\n",
       " Запас хода                              48\n",
       " Налог                                    5\n",
       " Газ                                      5\n",
       " боковые зеркала с электроприводом        1\n",
       " Комплектация                             1\n",
       "Name: engine, dtype: int64"
      ]
     },
     "execution_count": 41,
     "metadata": {},
     "output_type": "execute_result"
    }
   ],
   "source": [
    "data.engine.value_counts()"
   ]
  },
  {
   "cell_type": "markdown",
   "id": "5ed1d7dc",
   "metadata": {},
   "source": [
    "*Заменю некорректные названия на 'no_info'*"
   ]
  },
  {
   "cell_type": "code",
   "execution_count": 42,
   "id": "75fa6790",
   "metadata": {},
   "outputs": [],
   "source": [
    "data['engine']=data['engine'].apply(lambda x: 'Бензин' if 'Бен' in x\n",
    "                             else ('Газ' if 'Газ' in x\n",
    "                        else  ('Гибрид' if 'Гибрид' in x  else ('Дизель' if 'Дизель' in x else 'no_info'))))"
   ]
  },
  {
   "cell_type": "markdown",
   "id": "87aa9dd2",
   "metadata": {},
   "source": [
    "### Состояние"
   ]
  },
  {
   "cell_type": "code",
   "execution_count": 43,
   "id": "72a6544d",
   "metadata": {},
   "outputs": [
    {
     "data": {
      "text/plain": [
       " Не требует ремонта               23037\n",
       " Левый                             1172\n",
       " 1владелец                          167\n",
       " 3 или более                        124\n",
       " Состояние                          119\n",
       " 2владельца                         112\n",
       " Руль                                10\n",
       " Владельцы                            9\n",
       " Правый                               5\n",
       " а также в КРЕДИТ под низкий %        1\n",
       "Name: v_condition, dtype: int64"
      ]
     },
     "execution_count": 43,
     "metadata": {},
     "output_type": "execute_result"
    }
   ],
   "source": [
    "data.v_condition.value_counts()"
   ]
  },
  {
   "cell_type": "code",
   "execution_count": 44,
   "id": "f780d9df",
   "metadata": {},
   "outputs": [],
   "source": [
    "data['v_condition']=data['v_condition'].apply(lambda x: 'Не требует ремонта' if 'Не требует ' in x\n",
    "                             else  'no_info')"
   ]
  },
  {
   "cell_type": "markdown",
   "id": "96a20e82",
   "metadata": {},
   "source": [
    "### ПТС"
   ]
  },
  {
   "cell_type": "code",
   "execution_count": 45,
   "id": "fc2b6cc0",
   "metadata": {},
   "outputs": [
    {
     "data": {
      "text/plain": [
       " Оригинал              20671\n",
       " Дубликат               2366\n",
       " 1владелец               544\n",
       " 3 или более             342\n",
       " Растаможен              315\n",
       "                       ...  \n",
       " 11 лет                    1\n",
       " 6 лет и 9 месяцев         1\n",
       " 17 лет и 2 месяца         1\n",
       " 10 лет и 1 месяц          1\n",
       " 5 лет и 12 месяцев        1\n",
       "Name: passport, Length: 74, dtype: int64"
      ]
     },
     "execution_count": 45,
     "metadata": {},
     "output_type": "execute_result"
    }
   ],
   "source": [
    "data.passport.value_counts()"
   ]
  },
  {
   "cell_type": "markdown",
   "id": "74c1fc9a",
   "metadata": {},
   "source": [
    "Заменю неизвестные данные на более популярную категорию"
   ]
  },
  {
   "cell_type": "code",
   "execution_count": 46,
   "id": "4e382da8",
   "metadata": {},
   "outputs": [],
   "source": [
    "data['passport']=data['passport'].apply(lambda x: 'Оригинал' if 'Ориг' in x\n",
    "                             else  'Дубликат' if 'Дубли' in x else 'Оригинал')"
   ]
  },
  {
   "cell_type": "code",
   "execution_count": 47,
   "id": "b248d49b",
   "metadata": {},
   "outputs": [
    {
     "data": {
      "text/plain": [
       "Оригинал    22390\n",
       "Дубликат     2366\n",
       "Name: passport, dtype: int64"
      ]
     },
     "execution_count": 47,
     "metadata": {},
     "output_type": "execute_result"
    }
   ],
   "source": [
    "data.passport.value_counts()"
   ]
  },
  {
   "cell_type": "markdown",
   "id": "70c1f273",
   "metadata": {},
   "source": [
    "### Пробег\n"
   ]
  },
  {
   "cell_type": "code",
   "execution_count": 48,
   "id": "a6e6357b",
   "metadata": {},
   "outputs": [],
   "source": [
    "data['mileage']=pd.to_numeric(data['mileage'], errors='coerce').fillna(0).astype(int)"
   ]
  },
  {
   "cell_type": "code",
   "execution_count": 49,
   "id": "e3ee6c2e",
   "metadata": {},
   "outputs": [],
   "source": [
    "data=data.drop((data.loc[data['mileage']==0]).index)"
   ]
  },
  {
   "cell_type": "code",
   "execution_count": 53,
   "id": "07ef9565",
   "metadata": {},
   "outputs": [],
   "source": [
    "data['mileage_group']=pd.qcut(data['mileage'],10)"
   ]
  },
  {
   "cell_type": "code",
   "execution_count": 54,
   "id": "718e0c5f",
   "metadata": {},
   "outputs": [
    {
     "data": {
      "text/html": [
       "<div>\n",
       "<style scoped>\n",
       "    .dataframe tbody tr th:only-of-type {\n",
       "        vertical-align: middle;\n",
       "    }\n",
       "\n",
       "    .dataframe tbody tr th {\n",
       "        vertical-align: top;\n",
       "    }\n",
       "\n",
       "    .dataframe thead th {\n",
       "        text-align: right;\n",
       "    }\n",
       "</style>\n",
       "<table border=\"1\" class=\"dataframe\">\n",
       "  <thead>\n",
       "    <tr style=\"text-align: right;\">\n",
       "      <th></th>\n",
       "      <th>name</th>\n",
       "      <th>price</th>\n",
       "      <th>year</th>\n",
       "      <th>mileage</th>\n",
       "      <th>type</th>\n",
       "      <th>color</th>\n",
       "      <th>engAndPower</th>\n",
       "      <th>engine</th>\n",
       "      <th>tax</th>\n",
       "      <th>transmission</th>\n",
       "      <th>...</th>\n",
       "      <th>v_condition</th>\n",
       "      <th>owners</th>\n",
       "      <th>passport</th>\n",
       "      <th>customs_clearance</th>\n",
       "      <th>28</th>\n",
       "      <th>params2</th>\n",
       "      <th>brand</th>\n",
       "      <th>price_group</th>\n",
       "      <th>year_group</th>\n",
       "      <th>mileage_group</th>\n",
       "    </tr>\n",
       "  </thead>\n",
       "  <tbody>\n",
       "  </tbody>\n",
       "</table>\n",
       "<p>0 rows × 22 columns</p>\n",
       "</div>"
      ],
      "text/plain": [
       "Empty DataFrame\n",
       "Columns: [name, price, year, mileage, type, color, engAndPower, engine, tax, transmission, drive_unit, wheel, v_condition, owners, passport, customs_clearance, 28, params2, brand, price_group, year_group, mileage_group]\n",
       "Index: []\n",
       "\n",
       "[0 rows x 22 columns]"
      ]
     },
     "execution_count": 54,
     "metadata": {},
     "output_type": "execute_result"
    }
   ],
   "source": [
    "data[data['mileage']==0]"
   ]
  },
  {
   "cell_type": "markdown",
   "id": "a8d1e745",
   "metadata": {},
   "source": [
    "Решаю удалить автомобили с нулевым пробегом, так как 0 там стал автоматически при переводе в int64 после None"
   ]
  },
  {
   "cell_type": "code",
   "execution_count": 55,
   "id": "5ec589bc",
   "metadata": {},
   "outputs": [
    {
     "data": {
      "text/plain": [
       "mileage_group\n",
       "(0.999, 20400.0]         2478\n",
       "(20400.0, 43796.0]       2473\n",
       "(43796.0, 64000.0]       2507\n",
       "(64000.0, 82653.4]       2444\n",
       "(82653.4, 100492.0]      2477\n",
       "(100492.0, 121799.6]     2474\n",
       "(121799.6, 143319.4]     2475\n",
       "(143319.4, 171025.0]     2476\n",
       "(171025.0, 217592.0]     2475\n",
       "(217592.0, 1000000.0]    2476\n",
       "Name: mileage_group, dtype: int64"
      ]
     },
     "execution_count": 55,
     "metadata": {},
     "output_type": "execute_result"
    }
   ],
   "source": [
    "data.groupby(['mileage_group'])['mileage_group'].agg('count')"
   ]
  },
  {
   "cell_type": "code",
   "execution_count": 56,
   "id": "0afddac9",
   "metadata": {},
   "outputs": [
    {
     "data": {
      "text/plain": [
       "count      24755.000000\n",
       "mean      114243.020198\n",
       "std        82603.647895\n",
       "min            1.000000\n",
       "25%        53958.500000\n",
       "50%       100492.000000\n",
       "75%       156170.000000\n",
       "max      1000000.000000\n",
       "Name: mileage, dtype: float64"
      ]
     },
     "execution_count": 56,
     "metadata": {},
     "output_type": "execute_result"
    }
   ],
   "source": [
    "data.mileage.describe()"
   ]
  },
  {
   "cell_type": "code",
   "execution_count": 57,
   "id": "4a68fe83",
   "metadata": {},
   "outputs": [
    {
     "data": {
      "text/html": [
       "<div>\n",
       "<style scoped>\n",
       "    .dataframe tbody tr th:only-of-type {\n",
       "        vertical-align: middle;\n",
       "    }\n",
       "\n",
       "    .dataframe tbody tr th {\n",
       "        vertical-align: top;\n",
       "    }\n",
       "\n",
       "    .dataframe thead th {\n",
       "        text-align: right;\n",
       "    }\n",
       "</style>\n",
       "<table border=\"1\" class=\"dataframe\">\n",
       "  <thead>\n",
       "    <tr style=\"text-align: right;\">\n",
       "      <th></th>\n",
       "      <th>name</th>\n",
       "      <th>price</th>\n",
       "      <th>year</th>\n",
       "      <th>mileage</th>\n",
       "      <th>type</th>\n",
       "      <th>color</th>\n",
       "      <th>engAndPower</th>\n",
       "      <th>engine</th>\n",
       "      <th>tax</th>\n",
       "      <th>transmission</th>\n",
       "      <th>...</th>\n",
       "      <th>v_condition</th>\n",
       "      <th>owners</th>\n",
       "      <th>passport</th>\n",
       "      <th>customs_clearance</th>\n",
       "      <th>28</th>\n",
       "      <th>params2</th>\n",
       "      <th>brand</th>\n",
       "      <th>price_group</th>\n",
       "      <th>year_group</th>\n",
       "      <th>mileage_group</th>\n",
       "    </tr>\n",
       "  </thead>\n",
       "  <tbody>\n",
       "    <tr>\n",
       "      <th>60670</th>\n",
       "      <td>Volkswagen Passat B3</td>\n",
       "      <td>24930</td>\n",
       "      <td>1991</td>\n",
       "      <td>1000000</td>\n",
       "      <td>седан</td>\n",
       "      <td>синий</td>\n",
       "      <td>2.0 л / 115л.с. /</td>\n",
       "      <td>Бензин</td>\n",
       "      <td>2070₽ / год</td>\n",
       "      <td>механическая</td>\n",
       "      <td>...</td>\n",
       "      <td>Не требует ремонта</td>\n",
       "      <td>3 или более</td>\n",
       "      <td>Дубликат</td>\n",
       "      <td>10 лет и 2 месяца</td>\n",
       "      <td>Растаможен</td>\n",
       "      <td>Автомобиль ФОЛЬКСВАГЕН ПАССАТ, 1991 года выпус...</td>\n",
       "      <td>VOLKSWAGEN</td>\n",
       "      <td>(19999.999, 450000.0]</td>\n",
       "      <td>(1947.999, 2011.0]</td>\n",
       "      <td>(217592.0, 1000000.0]</td>\n",
       "    </tr>\n",
       "  </tbody>\n",
       "</table>\n",
       "<p>1 rows × 22 columns</p>\n",
       "</div>"
      ],
      "text/plain": [
       "                       name  price  year  mileage    type   color  \\\n",
       "60670  Volkswagen Passat B3  24930  1991  1000000   седан   синий   \n",
       "\n",
       "               engAndPower  engine           tax   transmission  ...  \\\n",
       "60670   2.0 л / 115л.с. /   Бензин   2070₽ / год   механическая  ...   \n",
       "\n",
       "              v_condition        owners  passport   customs_clearance  \\\n",
       "60670  Не требует ремонта   3 или более  Дубликат   10 лет и 2 месяца   \n",
       "\n",
       "                28                                            params2  \\\n",
       "60670   Растаможен  Автомобиль ФОЛЬКСВАГЕН ПАССАТ, 1991 года выпус...   \n",
       "\n",
       "            brand            price_group          year_group  \\\n",
       "60670  VOLKSWAGEN  (19999.999, 450000.0]  (1947.999, 2011.0]   \n",
       "\n",
       "               mileage_group  \n",
       "60670  (217592.0, 1000000.0]  \n",
       "\n",
       "[1 rows x 22 columns]"
      ]
     },
     "execution_count": 57,
     "metadata": {},
     "output_type": "execute_result"
    }
   ],
   "source": [
    "data[data['mileage']==1000000]"
   ]
  },
  {
   "cell_type": "code",
   "execution_count": 58,
   "id": "0db5be96",
   "metadata": {},
   "outputs": [
    {
     "data": {
      "text/plain": [
       "<AxesSubplot:>"
      ]
     },
     "execution_count": 58,
     "metadata": {},
     "output_type": "execute_result"
    },
    {
     "data": {
      "image/png": "[encoded data removed]",
      "text/plain": [
       "<Figure size 432x288 with 1 Axes>"
      ]
     },
     "metadata": {
      "needs_background": "light"
     },
     "output_type": "display_data"
    }
   ],
   "source": [
    "sns.boxplot(data.mileage.values)"
   ]
  },
  {
   "cell_type": "markdown",
   "id": "c365d07d",
   "metadata": {},
   "source": [
    "### Тип кузова"
   ]
  },
  {
   "cell_type": "code",
   "execution_count": 59,
   "id": "5e7e05ac",
   "metadata": {},
   "outputs": [
    {
     "data": {
      "text/plain": [
       " внедорожник 5 дв.          11006\n",
       " седан                       8209\n",
       " хэтчбек 5 дв.               1756\n",
       " лифтбек                      731\n",
       " универсал 5 дв.              704\n",
       " минивэн                      613\n",
       " купе                         556\n",
       " компактвэн                   290\n",
       " хэтчбек 3 дв.                278\n",
       " пикап двойная кабина         180\n",
       " внедорожник 3 дв.            145\n",
       " фургон                       104\n",
       " кабриолет                     78\n",
       " родстер                       46\n",
       " купе-хардтоп                  41\n",
       " седан 2 дв.                    4\n",
       " внедорожник открытый           3\n",
       " пикап одинарная кабина         3\n",
       " лимузин                        2\n",
       " хэтчбек 4 дв.                  2\n",
       " пикап полуторная кабина        2\n",
       " тарга                          1\n",
       " микровэн                       1\n",
       "Name: type, dtype: int64"
      ]
     },
     "execution_count": 59,
     "metadata": {},
     "output_type": "execute_result"
    }
   ],
   "source": [
    "data.type.value_counts()"
   ]
  },
  {
   "cell_type": "markdown",
   "id": "260cf9ba",
   "metadata": {},
   "source": [
    "*Здесь все названия адекватные, иду дальше*"
   ]
  },
  {
   "cell_type": "markdown",
   "id": "a1c117a2",
   "metadata": {},
   "source": [
    "### Цвет автомобиля"
   ]
  },
  {
   "cell_type": "code",
   "execution_count": 60,
   "id": "a8acd0de",
   "metadata": {},
   "outputs": [
    {
     "data": {
      "text/plain": [
       " чёрный         7343\n",
       " белый          6053\n",
       " серый          3172\n",
       " синий          2424\n",
       " серебристый    2021\n",
       " коричневый     1315\n",
       " красный         908\n",
       " бежевый         489\n",
       " зелёный         333\n",
       " голубой         227\n",
       " оранжевый       120\n",
       " пурпурный       104\n",
       " жёлтый           88\n",
       " золотистый       84\n",
       " фиолетовый       72\n",
       " розовый           2\n",
       "Name: color, dtype: int64"
      ]
     },
     "execution_count": 60,
     "metadata": {},
     "output_type": "execute_result"
    }
   ],
   "source": [
    "data.color.value_counts()"
   ]
  },
  {
   "cell_type": "markdown",
   "id": "2a672a87",
   "metadata": {},
   "source": [
    "*Здесь все названия адекватные, иду дальше*"
   ]
  },
  {
   "cell_type": "markdown",
   "id": "0feaf2af",
   "metadata": {},
   "source": [
    "### Привод"
   ]
  },
  {
   "cell_type": "code",
   "execution_count": 61,
   "id": "2c2db847",
   "metadata": {},
   "outputs": [
    {
     "data": {
      "text/plain": [
       " полный              11857\n",
       " передний             8596\n",
       " задний               2584\n",
       " автоматическая        573\n",
       " механическая          417\n",
       " Левый                 401\n",
       " Привод                119\n",
       " роботизированная       95\n",
       " вариатор               92\n",
       " Коробка                10\n",
       " Руль                    9\n",
       " Правый                  2\n",
       "Name: drive_unit, dtype: int64"
      ]
     },
     "execution_count": 61,
     "metadata": {},
     "output_type": "execute_result"
    }
   ],
   "source": [
    "data.drive_unit.value_counts()"
   ]
  },
  {
   "cell_type": "code",
   "execution_count": 62,
   "id": "39ab57ef",
   "metadata": {},
   "outputs": [],
   "source": [
    "data['drive_unit']=data['drive_unit'].apply(lambda x: 'полный' if 'полны' in x\n",
    "                             else  ('передний' if 'передни' in x \n",
    "                                    else ('задний' if 'задни' in x \n",
    "                                          else 'no_info')))"
   ]
  },
  {
   "cell_type": "markdown",
   "id": "6e22f6e9",
   "metadata": {},
   "source": [
    "Решаю пропуски заполнить no_info"
   ]
  },
  {
   "cell_type": "markdown",
   "id": "6b9ae6f7",
   "metadata": {},
   "source": [
    "### Трансмиссия"
   ]
  },
  {
   "cell_type": "code",
   "execution_count": 63,
   "id": "d2eb60b6",
   "metadata": {},
   "outputs": [
    {
     "data": {
      "text/plain": [
       " автоматическая      14846\n",
       " механическая         4446\n",
       " роботизированная     2903\n",
       " вариатор              842\n",
       " полный                222\n",
       "                     ...  \n",
       " 3270₽ / год             1\n",
       " 263250₽ / год           1\n",
       " 449₽ / год              1\n",
       " 1008₽ / год             1\n",
       " 1715₽ / год             1\n",
       "Name: transmission, Length: 450, dtype: int64"
      ]
     },
     "execution_count": 63,
     "metadata": {},
     "output_type": "execute_result"
    }
   ],
   "source": [
    "data.transmission.value_counts()"
   ]
  },
  {
   "cell_type": "code",
   "execution_count": 64,
   "id": "a6e9f769",
   "metadata": {},
   "outputs": [],
   "source": [
    "data['transmission']=data['transmission'].apply(lambda x: 'автоматическая' if 'автом' in x\n",
    "                             else  ('механическая' if 'механ' in x \n",
    "                                    else ('роботизированная' if 'робот' in x \n",
    "                                           else ('вариатор' if 'вариат' in x \n",
    "                                          else 'no_info'))))"
   ]
  },
  {
   "cell_type": "markdown",
   "id": "e144be21",
   "metadata": {},
   "source": [
    "### Налог"
   ]
  },
  {
   "cell_type": "code",
   "execution_count": 65,
   "id": "40785099",
   "metadata": {},
   "outputs": [
    {
     "data": {
      "text/plain": [
       " 18675₽ / год    1501\n",
       " 5250₽ / год     1215\n",
       " 9200₽ / год      879\n",
       " 9500₽ / год      623\n",
       " 18375₽ / год     537\n",
       "                 ... \n",
       " 476₽ / год         1\n",
       " 3836₽ / год        1\n",
       " Business Jet       1\n",
       " EXECUTIVE          1\n",
       " 1926₽ / год        1\n",
       "Name: tax, Length: 1931, dtype: int64"
      ]
     },
     "execution_count": 65,
     "metadata": {},
     "output_type": "execute_result"
    }
   ],
   "source": [
    "data.tax.value_counts()"
   ]
  },
  {
   "cell_type": "markdown",
   "id": "35eac696",
   "metadata": {},
   "source": [
    "*Удалю столбец с налогом, не решила что с ним можно придумать*"
   ]
  },
  {
   "cell_type": "code",
   "execution_count": 66,
   "id": "1e99f225",
   "metadata": {},
   "outputs": [],
   "source": [
    "data=data.drop('tax', 1)"
   ]
  },
  {
   "cell_type": "markdown",
   "id": "eaeb11d9",
   "metadata": {},
   "source": [
    "### Объем двигателя и кол-во лошадиных сил"
   ]
  },
  {
   "cell_type": "markdown",
   "id": "5820bc06",
   "metadata": {},
   "source": [
    "Решила разделить колонку с объем двигателя и кол-во лошадиных сил по черте, получилось три столбца"
   ]
  },
  {
   "cell_type": "code",
   "execution_count": 67,
   "id": "b57f385b",
   "metadata": {},
   "outputs": [],
   "source": [
    "data[['eng_volume','horsepower','empty']]=data['engAndPower'].str.split('/', expand=True)"
   ]
  },
  {
   "cell_type": "code",
   "execution_count": 68,
   "id": "529d43b6",
   "metadata": {},
   "outputs": [
    {
     "data": {
      "text/plain": [
       "            24701\n",
       " Электро       54\n",
       "Name: empty, dtype: int64"
      ]
     },
     "execution_count": 68,
     "metadata": {},
     "output_type": "execute_result"
    }
   ],
   "source": [
    "data['empty'].value_counts()"
   ]
  },
  {
   "cell_type": "markdown",
   "id": "af9c7af6",
   "metadata": {},
   "source": [
    "В третьей колонке иногда появляется пометка \"Электро\", удалю, так как в лошидиные силы попадает кол-во кВт, пока не буду с этим разбираться и таких строчек только 53"
   ]
  },
  {
   "cell_type": "code",
   "execution_count": 69,
   "id": "f8950126",
   "metadata": {},
   "outputs": [
    {
     "data": {
      "text/plain": [
       "name                 54\n",
       "price                54\n",
       "year                 54\n",
       "mileage              54\n",
       "type                 54\n",
       "color                54\n",
       "engAndPower          54\n",
       "engine               54\n",
       "transmission         54\n",
       "drive_unit           54\n",
       "wheel                54\n",
       "v_condition          54\n",
       "owners               54\n",
       "passport             54\n",
       "customs_clearance    54\n",
       "28                   54\n",
       "params2              54\n",
       "brand                54\n",
       "price_group          54\n",
       "year_group           54\n",
       "mileage_group        54\n",
       "eng_volume           54\n",
       "horsepower           54\n",
       "empty                54\n",
       "dtype: int64"
      ]
     },
     "execution_count": 69,
     "metadata": {},
     "output_type": "execute_result"
    }
   ],
   "source": [
    "data[data['empty']==' Электро'].count()"
   ]
  },
  {
   "cell_type": "code",
   "execution_count": 70,
   "id": "14b04147",
   "metadata": {},
   "outputs": [],
   "source": [
    "data=data.drop((data.loc[data['empty']==' Электро']).index)"
   ]
  },
  {
   "cell_type": "code",
   "execution_count": 71,
   "id": "9546b5c3",
   "metadata": {},
   "outputs": [
    {
     "data": {
      "text/html": [
       "<div>\n",
       "<style scoped>\n",
       "    .dataframe tbody tr th:only-of-type {\n",
       "        vertical-align: middle;\n",
       "    }\n",
       "\n",
       "    .dataframe tbody tr th {\n",
       "        vertical-align: top;\n",
       "    }\n",
       "\n",
       "    .dataframe thead th {\n",
       "        text-align: right;\n",
       "    }\n",
       "</style>\n",
       "<table border=\"1\" class=\"dataframe\">\n",
       "  <thead>\n",
       "    <tr style=\"text-align: right;\">\n",
       "      <th></th>\n",
       "      <th>name</th>\n",
       "      <th>price</th>\n",
       "      <th>year</th>\n",
       "      <th>mileage</th>\n",
       "      <th>type</th>\n",
       "      <th>color</th>\n",
       "      <th>engAndPower</th>\n",
       "      <th>engine</th>\n",
       "      <th>transmission</th>\n",
       "      <th>drive_unit</th>\n",
       "      <th>...</th>\n",
       "      <th>customs_clearance</th>\n",
       "      <th>28</th>\n",
       "      <th>params2</th>\n",
       "      <th>brand</th>\n",
       "      <th>price_group</th>\n",
       "      <th>year_group</th>\n",
       "      <th>mileage_group</th>\n",
       "      <th>eng_volume</th>\n",
       "      <th>horsepower</th>\n",
       "      <th>empty</th>\n",
       "    </tr>\n",
       "  </thead>\n",
       "  <tbody>\n",
       "  </tbody>\n",
       "</table>\n",
       "<p>0 rows × 24 columns</p>\n",
       "</div>"
      ],
      "text/plain": [
       "Empty DataFrame\n",
       "Columns: [name, price, year, mileage, type, color, engAndPower, engine, transmission, drive_unit, wheel, v_condition, owners, passport, customs_clearance, 28, params2, brand, price_group, year_group, mileage_group, eng_volume, horsepower, empty]\n",
       "Index: []\n",
       "\n",
       "[0 rows x 24 columns]"
      ]
     },
     "execution_count": 71,
     "metadata": {},
     "output_type": "execute_result"
    }
   ],
   "source": [
    "#Проверка\n",
    "data[data['empty']==' Электро']"
   ]
  },
  {
   "cell_type": "markdown",
   "id": "10c7d2da",
   "metadata": {},
   "source": [
    "### Объем двигателя"
   ]
  },
  {
   "cell_type": "code",
   "execution_count": null,
   "id": "880c16a8",
   "metadata": {},
   "outputs": [],
   "source": [
    "#data.eng_volume.value_counts()"
   ]
  },
  {
   "cell_type": "markdown",
   "id": "9e325081",
   "metadata": {},
   "source": [
    "Уберу лишние символы"
   ]
  },
  {
   "cell_type": "code",
   "execution_count": 72,
   "id": "7ace09f3",
   "metadata": {},
   "outputs": [],
   "source": [
    "data['eng_volume']=data['eng_volume'].apply(str).str[:-2]"
   ]
  },
  {
   "cell_type": "code",
   "execution_count": 73,
   "id": "aff9fc50",
   "metadata": {},
   "outputs": [],
   "source": [
    "data['eng_volume']=pd.to_numeric(data['eng_volume'], errors='coerce').fillna(0).astype(float)"
   ]
  },
  {
   "cell_type": "code",
   "execution_count": 74,
   "id": "4ce4dcca",
   "metadata": {},
   "outputs": [
    {
     "data": {
      "text/plain": [
       "count    24701.000000\n",
       "mean         2.290219\n",
       "std          0.877207\n",
       "min          0.700000\n",
       "25%          1.600000\n",
       "50%          2.000000\n",
       "75%          3.000000\n",
       "max          6.800000\n",
       "Name: eng_volume, dtype: float64"
      ]
     },
     "execution_count": 74,
     "metadata": {},
     "output_type": "execute_result"
    }
   ],
   "source": [
    "data.eng_volume.describe()"
   ]
  },
  {
   "cell_type": "code",
   "execution_count": 75,
   "id": "c24ca60d",
   "metadata": {},
   "outputs": [],
   "source": [
    "data.drop(data[data.eng_volume > 8.4].index, inplace=True)\n"
   ]
  },
  {
   "cell_type": "markdown",
   "id": "d3cbcd1d",
   "metadata": {},
   "source": [
    "**Сразу вижу выбросы, объем двигателя по мировым показателям пока еще не может превышать 8.4 , такой еще просто не придумали**\n"
   ]
  },
  {
   "cell_type": "markdown",
   "id": "61e12cc0",
   "metadata": {},
   "source": [
    "### Кол-во лошадиных сил"
   ]
  },
  {
   "cell_type": "code",
   "execution_count": 76,
   "id": "de2938ea",
   "metadata": {},
   "outputs": [
    {
     "data": {
      "text/plain": [
       " 249л.с.     2334\n",
       " 150л.с.     2186\n",
       " 184л.с.     1190\n",
       " 190л.с.     1006\n",
       " 110л.с.      985\n",
       "             ... \n",
       " 373л.с.        1\n",
       " 299л.с.        1\n",
       " 29л.с.         1\n",
       " 457л.с.        1\n",
       " 256л.с.        1\n",
       "Name: horsepower, Length: 332, dtype: int64"
      ]
     },
     "execution_count": 76,
     "metadata": {},
     "output_type": "execute_result"
    }
   ],
   "source": [
    "data.horsepower.value_counts()"
   ]
  },
  {
   "cell_type": "markdown",
   "id": "e5246d84",
   "metadata": {},
   "source": [
    "Уберу лишние символы"
   ]
  },
  {
   "cell_type": "code",
   "execution_count": 77,
   "id": "bea6be11",
   "metadata": {},
   "outputs": [],
   "source": [
    "data['horsepower']=data['horsepower'].apply(str).str[:-5]"
   ]
  },
  {
   "cell_type": "code",
   "execution_count": 78,
   "id": "765de73b",
   "metadata": {},
   "outputs": [],
   "source": [
    "data['horsepower']=pd.to_numeric(data['horsepower'], errors='coerce').fillna(0).astype(int)"
   ]
  },
  {
   "cell_type": "code",
   "execution_count": 79,
   "id": "8eafd31b",
   "metadata": {},
   "outputs": [
    {
     "data": {
      "text/plain": [
       "count    24701.000000\n",
       "mean       193.668920\n",
       "std         96.015582\n",
       "min         27.000000\n",
       "25%        125.000000\n",
       "50%        173.000000\n",
       "75%        245.000000\n",
       "max        800.000000\n",
       "Name: horsepower, dtype: float64"
      ]
     },
     "execution_count": 79,
     "metadata": {},
     "output_type": "execute_result"
    }
   ],
   "source": [
    "data.horsepower.describe()"
   ]
  },
  {
   "cell_type": "code",
   "execution_count": null,
   "id": "3633bf7e",
   "metadata": {
    "scrolled": true
   },
   "outputs": [],
   "source": [
    "data[data['horsepower']>790].head(1)"
   ]
  },
  {
   "cell_type": "code",
   "execution_count": 80,
   "id": "2063a515",
   "metadata": {},
   "outputs": [
    {
     "data": {
      "text/plain": [
       "<AxesSubplot:>"
      ]
     },
     "execution_count": 80,
     "metadata": {},
     "output_type": "execute_result"
    },
    {
     "data": {
      "image/png": "[encoded data removed]",
      "text/plain": [
       "<Figure size 432x288 with 1 Axes>"
      ]
     },
     "metadata": {
      "needs_background": "light"
     },
     "output_type": "display_data"
    }
   ],
   "source": [
    "import seaborn as sns\n",
    "import matplotlib.pyplot as plt\n",
    "\n",
    "sns.boxplot(data=data['horsepower'],color=colors[2])"
   ]
  },
  {
   "cell_type": "code",
   "execution_count": 81,
   "id": "84b95db0",
   "metadata": {},
   "outputs": [],
   "source": [
    "data['horsepower_group']=pd.qcut(data['horsepower'],5)"
   ]
  },
  {
   "cell_type": "code",
   "execution_count": 82,
   "id": "5fb3936a",
   "metadata": {},
   "outputs": [
    {
     "data": {
      "text/plain": [
       "Text(0, 0.5, 'horsepower_group')"
      ]
     },
     "execution_count": 82,
     "metadata": {},
     "output_type": "execute_result"
    },
    {
     "data": {
      "image/png": "[encoded data removed]",
      "text/plain": [
       "<Figure size 432x288 with 1 Axes>"
      ]
     },
     "metadata": {
      "needs_background": "light"
     },
     "output_type": "display_data"
    }
   ],
   "source": [
    "data.groupby(['horsepower_group'])['price'].count().hist(color=colors[3])\n",
    "plt.xlabel('price')\n",
    "plt.ylabel('horsepower_group')"
   ]
  },
  {
   "cell_type": "code",
   "execution_count": null,
   "id": "aef77bfb",
   "metadata": {},
   "outputs": [],
   "source": [
    "#data['price_group']=pd.qcut(data['price'],10)"
   ]
  },
  {
   "cell_type": "markdown",
   "id": "bbe0d3fa",
   "metadata": {},
   "source": [
    "### Количество владельцев"
   ]
  },
  {
   "cell_type": "code",
   "execution_count": 83,
   "id": "8813ff52",
   "metadata": {
    "scrolled": true
   },
   "outputs": [
    {
     "data": {
      "text/plain": [
       " 1владелец             9802\n",
       " 3 или более           7415\n",
       " 2владельца            5820\n",
       " Не требует ремонта    1177\n",
       " Оригинал               358\n",
       " Владельцы               74\n",
       " Дубликат                45\n",
       " Состояние                9\n",
       " ПТС                      1\n",
       "Name: owners, dtype: int64"
      ]
     },
     "execution_count": 83,
     "metadata": {},
     "output_type": "execute_result"
    }
   ],
   "source": [
    "data.owners.value_counts()"
   ]
  },
  {
   "cell_type": "code",
   "execution_count": 84,
   "id": "2aba56d3",
   "metadata": {},
   "outputs": [
    {
     "data": {
      "text/plain": [
       "1 владелец     9802\n",
       "3 или более    7415\n",
       "2 владельца    5820\n",
       "no_info        1664\n",
       "Name: owners, dtype: int64"
      ]
     },
     "execution_count": 84,
     "metadata": {},
     "output_type": "execute_result"
    }
   ],
   "source": [
    "data['owners']=data['owners'].apply(lambda x: '3 или более' if '3' in x \n",
    "                                       else ('2 владельца' if '2' in x else (\n",
    "        '1 владелец' if '1' in x else 'no_info')))\n",
    "data.owners.value_counts()"
   ]
  },
  {
   "cell_type": "markdown",
   "id": "c3911785",
   "metadata": {},
   "source": [
    "### Растаможен или нет\n"
   ]
  },
  {
   "cell_type": "code",
   "execution_count": 85,
   "id": "a3a12f75",
   "metadata": {},
   "outputs": [
    {
     "data": {
      "text/plain": [
       " Растаможен             20123\n",
       " Оригинал                1077\n",
       " Рассмотрю варианты       139\n",
       " Дубликат                 100\n",
       " 1 месяц                   85\n",
       "                        ...  \n",
       " 16 лет и 2 месяца          1\n",
       " 15 лет и 6 месяцев         1\n",
       " 14 лет и 12 месяцев        1\n",
       " До апреля 2023             1\n",
       " LGW**************          1\n",
       "Name: customs_clearance, Length: 283, dtype: int64"
      ]
     },
     "execution_count": 85,
     "metadata": {},
     "output_type": "execute_result"
    }
   ],
   "source": [
    "data.customs_clearance.value_counts()"
   ]
  },
  {
   "cell_type": "code",
   "execution_count": 86,
   "id": "facdc346",
   "metadata": {},
   "outputs": [],
   "source": [
    "data['customs_clearance']=data['customs_clearance'].apply(lambda x: 'Растаможен' if 'Растаможен' in x \n",
    "                                       else 'no_info')"
   ]
  },
  {
   "cell_type": "code",
   "execution_count": 87,
   "id": "77871037",
   "metadata": {},
   "outputs": [
    {
     "data": {
      "text/plain": [
       "name                 0\n",
       "price                0\n",
       "year                 0\n",
       "mileage              0\n",
       "type                 0\n",
       "color                0\n",
       "engAndPower          0\n",
       "engine               0\n",
       "transmission         0\n",
       "drive_unit           0\n",
       "wheel                0\n",
       "v_condition          0\n",
       "owners               0\n",
       "passport             0\n",
       "customs_clearance    0\n",
       "28                   0\n",
       "params2              0\n",
       "brand                0\n",
       "price_group          0\n",
       "year_group           0\n",
       "mileage_group        0\n",
       "eng_volume           0\n",
       "horsepower           0\n",
       "empty                0\n",
       "horsepower_group     0\n",
       "dtype: int64"
      ]
     },
     "execution_count": 87,
     "metadata": {},
     "output_type": "execute_result"
    }
   ],
   "source": [
    "data.isnull().sum()"
   ]
  },
  {
   "cell_type": "markdown",
   "id": "f6da7187",
   "metadata": {},
   "source": [
    "### Анализ комментария\n"
   ]
  },
  {
   "cell_type": "code",
   "execution_count": 88,
   "id": "1e6989f5",
   "metadata": {},
   "outputs": [],
   "source": [
    "data['params2'] = data['params2'].apply(str)"
   ]
  },
  {
   "cell_type": "code",
   "execution_count": 89,
   "id": "c0a1b037",
   "metadata": {},
   "outputs": [],
   "source": [
    "data['params2']=data['params2'].apply(lambda x: 'Возможен обмен' if 'обмен' in x \n",
    "                                       else ('Идеальное состояние' if 'отличн' in x \n",
    "                                             else('Собственник' if 'собственни' in x\n",
    "                                                   else('Кредит' if 'кредит' in x\n",
    "                                                        else('Срочный выкуп' if 'выкуп' in x \n",
    " else('C пробегом' if 'с пробегом' in x else('Дилер' if 'дилер' in x else 'no_info'))\n",
    "                                            )))))"
   ]
  },
  {
   "cell_type": "code",
   "execution_count": 90,
   "id": "d9a4c3c2",
   "metadata": {},
   "outputs": [
    {
     "data": {
      "text/html": [
       "<div>\n",
       "<style scoped>\n",
       "    .dataframe tbody tr th:only-of-type {\n",
       "        vertical-align: middle;\n",
       "    }\n",
       "\n",
       "    .dataframe tbody tr th {\n",
       "        vertical-align: top;\n",
       "    }\n",
       "\n",
       "    .dataframe thead th {\n",
       "        text-align: right;\n",
       "    }\n",
       "</style>\n",
       "<table border=\"1\" class=\"dataframe\">\n",
       "  <thead>\n",
       "    <tr style=\"text-align: right;\">\n",
       "      <th></th>\n",
       "      <th>name</th>\n",
       "      <th>price</th>\n",
       "      <th>year</th>\n",
       "      <th>mileage</th>\n",
       "      <th>type</th>\n",
       "      <th>color</th>\n",
       "      <th>engAndPower</th>\n",
       "      <th>engine</th>\n",
       "      <th>transmission</th>\n",
       "      <th>drive_unit</th>\n",
       "      <th>...</th>\n",
       "      <th>28</th>\n",
       "      <th>params2</th>\n",
       "      <th>brand</th>\n",
       "      <th>price_group</th>\n",
       "      <th>year_group</th>\n",
       "      <th>mileage_group</th>\n",
       "      <th>eng_volume</th>\n",
       "      <th>horsepower</th>\n",
       "      <th>empty</th>\n",
       "      <th>horsepower_group</th>\n",
       "    </tr>\n",
       "  </thead>\n",
       "  <tbody>\n",
       "    <tr>\n",
       "      <th>0</th>\n",
       "      <td>BMW 3 серии 320d xDrive VI (F3x) Рестайлинг</td>\n",
       "      <td>1795000</td>\n",
       "      <td>2016</td>\n",
       "      <td>87000</td>\n",
       "      <td>седан</td>\n",
       "      <td>чёрный</td>\n",
       "      <td>2.0 л / 190л.с. /</td>\n",
       "      <td>Дизель</td>\n",
       "      <td>автоматическая</td>\n",
       "      <td>полный</td>\n",
       "      <td>...</td>\n",
       "      <td>Растаможен</td>\n",
       "      <td>no_info</td>\n",
       "      <td>BMW</td>\n",
       "      <td>(1725000.0, 2225000.0]</td>\n",
       "      <td>(2013.0, 2016.0]</td>\n",
       "      <td>(82653.4, 100492.0]</td>\n",
       "      <td>2.0</td>\n",
       "      <td>190</td>\n",
       "      <td></td>\n",
       "      <td>(150.0, 190.0]</td>\n",
       "    </tr>\n",
       "    <tr>\n",
       "      <th>1</th>\n",
       "      <td>Toyota ISis I Рестайлинг</td>\n",
       "      <td>870000</td>\n",
       "      <td>2011</td>\n",
       "      <td>136400</td>\n",
       "      <td>компактвэн</td>\n",
       "      <td>серебристый</td>\n",
       "      <td>1.8 л / 144л.с. /</td>\n",
       "      <td>Бензин</td>\n",
       "      <td>вариатор</td>\n",
       "      <td>передний</td>\n",
       "      <td>...</td>\n",
       "      <td>ZGM100***********</td>\n",
       "      <td>no_info</td>\n",
       "      <td>TOYOTA</td>\n",
       "      <td>(847000.0, 1099000.0]</td>\n",
       "      <td>(1947.999, 2011.0]</td>\n",
       "      <td>(121799.6, 143319.4]</td>\n",
       "      <td>1.8</td>\n",
       "      <td>144</td>\n",
       "      <td></td>\n",
       "      <td>(116.0, 150.0]</td>\n",
       "    </tr>\n",
       "    <tr>\n",
       "      <th>3</th>\n",
       "      <td>Toyota RAV4 IV (CA40)</td>\n",
       "      <td>1635000</td>\n",
       "      <td>2013</td>\n",
       "      <td>69900</td>\n",
       "      <td>внедорожник 5 дв.</td>\n",
       "      <td>чёрный</td>\n",
       "      <td>2.0 л / 146л.с. /</td>\n",
       "      <td>Бензин</td>\n",
       "      <td>вариатор</td>\n",
       "      <td>полный</td>\n",
       "      <td>...</td>\n",
       "      <td>Растаможен</td>\n",
       "      <td>no_info</td>\n",
       "      <td>TOYOTA</td>\n",
       "      <td>(1375977.0, 1725000.0]</td>\n",
       "      <td>(2011.0, 2013.0]</td>\n",
       "      <td>(64000.0, 82653.4]</td>\n",
       "      <td>2.0</td>\n",
       "      <td>146</td>\n",
       "      <td></td>\n",
       "      <td>(116.0, 150.0]</td>\n",
       "    </tr>\n",
       "    <tr>\n",
       "      <th>10</th>\n",
       "      <td>Hyundai Accent ТагАЗ II</td>\n",
       "      <td>145000</td>\n",
       "      <td>2005</td>\n",
       "      <td>200000</td>\n",
       "      <td>седан</td>\n",
       "      <td>чёрный</td>\n",
       "      <td>1.5 л / 102л.с. /</td>\n",
       "      <td>Бензин</td>\n",
       "      <td>механическая</td>\n",
       "      <td>передний</td>\n",
       "      <td>...</td>\n",
       "      <td>Рассмотрю варианты</td>\n",
       "      <td>no_info</td>\n",
       "      <td>HYUNDAI</td>\n",
       "      <td>(19999.999, 450000.0]</td>\n",
       "      <td>(1947.999, 2011.0]</td>\n",
       "      <td>(171025.0, 217592.0]</td>\n",
       "      <td>1.5</td>\n",
       "      <td>102</td>\n",
       "      <td></td>\n",
       "      <td>(26.999, 116.0]</td>\n",
       "    </tr>\n",
       "    <tr>\n",
       "      <th>11</th>\n",
       "      <td>Renault Logan I Рестайлинг</td>\n",
       "      <td>110000</td>\n",
       "      <td>2013</td>\n",
       "      <td>300000</td>\n",
       "      <td>седан</td>\n",
       "      <td>белый</td>\n",
       "      <td>1.4 л / 75л.с. /</td>\n",
       "      <td>Бензин</td>\n",
       "      <td>механическая</td>\n",
       "      <td>передний</td>\n",
       "      <td>...</td>\n",
       "      <td>Рассмотрю варианты</td>\n",
       "      <td>no_info</td>\n",
       "      <td>RENAULT</td>\n",
       "      <td>(19999.999, 450000.0]</td>\n",
       "      <td>(2011.0, 2013.0]</td>\n",
       "      <td>(217592.0, 1000000.0]</td>\n",
       "      <td>1.4</td>\n",
       "      <td>75</td>\n",
       "      <td></td>\n",
       "      <td>(26.999, 116.0]</td>\n",
       "    </tr>\n",
       "    <tr>\n",
       "      <th>...</th>\n",
       "      <td>...</td>\n",
       "      <td>...</td>\n",
       "      <td>...</td>\n",
       "      <td>...</td>\n",
       "      <td>...</td>\n",
       "      <td>...</td>\n",
       "      <td>...</td>\n",
       "      <td>...</td>\n",
       "      <td>...</td>\n",
       "      <td>...</td>\n",
       "      <td>...</td>\n",
       "      <td>...</td>\n",
       "      <td>...</td>\n",
       "      <td>...</td>\n",
       "      <td>...</td>\n",
       "      <td>...</td>\n",
       "      <td>...</td>\n",
       "      <td>...</td>\n",
       "      <td>...</td>\n",
       "      <td>...</td>\n",
       "      <td>...</td>\n",
       "    </tr>\n",
       "    <tr>\n",
       "      <th>61256</th>\n",
       "      <td>Volkswagen Polo VI</td>\n",
       "      <td>1071900</td>\n",
       "      <td>2021</td>\n",
       "      <td>90</td>\n",
       "      <td>лифтбек</td>\n",
       "      <td>белый</td>\n",
       "      <td>1.6 л / 110л.с. /</td>\n",
       "      <td>Бензин</td>\n",
       "      <td>механическая</td>\n",
       "      <td>передний</td>\n",
       "      <td>...</td>\n",
       "      <td>XW8**************</td>\n",
       "      <td>no_info</td>\n",
       "      <td>VOLKSWAGEN</td>\n",
       "      <td>(847000.0, 1099000.0]</td>\n",
       "      <td>(2018.0, 2021.0]</td>\n",
       "      <td>(0.999, 20400.0]</td>\n",
       "      <td>1.6</td>\n",
       "      <td>110</td>\n",
       "      <td></td>\n",
       "      <td>(26.999, 116.0]</td>\n",
       "    </tr>\n",
       "    <tr>\n",
       "      <th>61277</th>\n",
       "      <td>Volkswagen Polo IV</td>\n",
       "      <td>230000</td>\n",
       "      <td>2002</td>\n",
       "      <td>180000</td>\n",
       "      <td>хэтчбек 5 дв.</td>\n",
       "      <td>белый</td>\n",
       "      <td>1.4 л / 75л.с. /</td>\n",
       "      <td>Бензин</td>\n",
       "      <td>механическая</td>\n",
       "      <td>передний</td>\n",
       "      <td>...</td>\n",
       "      <td>Растаможен</td>\n",
       "      <td>no_info</td>\n",
       "      <td>VOLKSWAGEN</td>\n",
       "      <td>(19999.999, 450000.0]</td>\n",
       "      <td>(1947.999, 2011.0]</td>\n",
       "      <td>(171025.0, 217592.0]</td>\n",
       "      <td>1.4</td>\n",
       "      <td>75</td>\n",
       "      <td></td>\n",
       "      <td>(26.999, 116.0]</td>\n",
       "    </tr>\n",
       "    <tr>\n",
       "      <th>61283</th>\n",
       "      <td>Volkswagen Touareg II Рестайлинг</td>\n",
       "      <td>3055000</td>\n",
       "      <td>2017</td>\n",
       "      <td>80000</td>\n",
       "      <td>внедорожник 5 дв.</td>\n",
       "      <td>пурпурный</td>\n",
       "      <td>3.6 л / 249л.с. /</td>\n",
       "      <td>Бензин</td>\n",
       "      <td>автоматическая</td>\n",
       "      <td>полный</td>\n",
       "      <td>...</td>\n",
       "      <td>Растаможен</td>\n",
       "      <td>no_info</td>\n",
       "      <td>VOLKSWAGEN</td>\n",
       "      <td>(2987400.0, 4250163.4]</td>\n",
       "      <td>(2016.0, 2018.0]</td>\n",
       "      <td>(64000.0, 82653.4]</td>\n",
       "      <td>3.6</td>\n",
       "      <td>249</td>\n",
       "      <td></td>\n",
       "      <td>(190.0, 249.0]</td>\n",
       "    </tr>\n",
       "    <tr>\n",
       "      <th>61284</th>\n",
       "      <td>Volkswagen Polo V Рестайлинг</td>\n",
       "      <td>660000</td>\n",
       "      <td>2017</td>\n",
       "      <td>64000</td>\n",
       "      <td>седан</td>\n",
       "      <td>серый</td>\n",
       "      <td>1.6 л / 110л.с. /</td>\n",
       "      <td>Бензин</td>\n",
       "      <td>автоматическая</td>\n",
       "      <td>передний</td>\n",
       "      <td>...</td>\n",
       "      <td>Растаможен</td>\n",
       "      <td>no_info</td>\n",
       "      <td>VOLKSWAGEN</td>\n",
       "      <td>(649000.0, 847000.0]</td>\n",
       "      <td>(2016.0, 2018.0]</td>\n",
       "      <td>(43796.0, 64000.0]</td>\n",
       "      <td>1.6</td>\n",
       "      <td>110</td>\n",
       "      <td></td>\n",
       "      <td>(26.999, 116.0]</td>\n",
       "    </tr>\n",
       "    <tr>\n",
       "      <th>61291</th>\n",
       "      <td>Volkswagen Polo V</td>\n",
       "      <td>545000</td>\n",
       "      <td>2014</td>\n",
       "      <td>99000</td>\n",
       "      <td>седан</td>\n",
       "      <td>золотистый</td>\n",
       "      <td>1.6 л / 105л.с. /</td>\n",
       "      <td>Бензин</td>\n",
       "      <td>механическая</td>\n",
       "      <td>передний</td>\n",
       "      <td>...</td>\n",
       "      <td>Растаможен</td>\n",
       "      <td>no_info</td>\n",
       "      <td>VOLKSWAGEN</td>\n",
       "      <td>(450000.0, 649000.0]</td>\n",
       "      <td>(2013.0, 2016.0]</td>\n",
       "      <td>(82653.4, 100492.0]</td>\n",
       "      <td>1.6</td>\n",
       "      <td>105</td>\n",
       "      <td></td>\n",
       "      <td>(26.999, 116.0]</td>\n",
       "    </tr>\n",
       "  </tbody>\n",
       "</table>\n",
       "<p>3739 rows × 25 columns</p>\n",
       "</div>"
      ],
      "text/plain": [
       "                                              name    price  year  mileage  \\\n",
       "0      BMW 3 серии 320d xDrive VI (F3x) Рестайлинг  1795000  2016    87000   \n",
       "1                         Toyota ISis I Рестайлинг   870000  2011   136400   \n",
       "3                            Toyota RAV4 IV (CA40)  1635000  2013    69900   \n",
       "10                         Hyundai Accent ТагАЗ II   145000  2005   200000   \n",
       "11                      Renault Logan I Рестайлинг   110000  2013   300000   \n",
       "...                                            ...      ...   ...      ...   \n",
       "61256                           Volkswagen Polo VI  1071900  2021       90   \n",
       "61277                           Volkswagen Polo IV   230000  2002   180000   \n",
       "61283             Volkswagen Touareg II Рестайлинг  3055000  2017    80000   \n",
       "61284                 Volkswagen Polo V Рестайлинг   660000  2017    64000   \n",
       "61291                            Volkswagen Polo V   545000  2014    99000   \n",
       "\n",
       "                     type         color          engAndPower  engine  \\\n",
       "0                   седан        чёрный   2.0 л / 190л.с. /   Дизель   \n",
       "1              компактвэн   серебристый   1.8 л / 144л.с. /   Бензин   \n",
       "3       внедорожник 5 дв.        чёрный   2.0 л / 146л.с. /   Бензин   \n",
       "10                  седан        чёрный   1.5 л / 102л.с. /   Бензин   \n",
       "11                  седан         белый    1.4 л / 75л.с. /   Бензин   \n",
       "...                   ...           ...                  ...     ...   \n",
       "61256             лифтбек         белый   1.6 л / 110л.с. /   Бензин   \n",
       "61277       хэтчбек 5 дв.         белый    1.4 л / 75л.с. /   Бензин   \n",
       "61283   внедорожник 5 дв.     пурпурный   3.6 л / 249л.с. /   Бензин   \n",
       "61284               седан         серый   1.6 л / 110л.с. /   Бензин   \n",
       "61291               седан    золотистый   1.6 л / 105л.с. /   Бензин   \n",
       "\n",
       "         transmission drive_unit  ...                   28  params2  \\\n",
       "0      автоматическая     полный  ...           Растаможен  no_info   \n",
       "1            вариатор   передний  ...    ZGM100***********  no_info   \n",
       "3            вариатор     полный  ...           Растаможен  no_info   \n",
       "10       механическая   передний  ...   Рассмотрю варианты  no_info   \n",
       "11       механическая   передний  ...   Рассмотрю варианты  no_info   \n",
       "...               ...        ...  ...                  ...      ...   \n",
       "61256    механическая   передний  ...    XW8**************  no_info   \n",
       "61277    механическая   передний  ...           Растаможен  no_info   \n",
       "61283  автоматическая     полный  ...           Растаможен  no_info   \n",
       "61284  автоматическая   передний  ...           Растаможен  no_info   \n",
       "61291    механическая   передний  ...           Растаможен  no_info   \n",
       "\n",
       "            brand             price_group          year_group  \\\n",
       "0             BMW  (1725000.0, 2225000.0]    (2013.0, 2016.0]   \n",
       "1          TOYOTA   (847000.0, 1099000.0]  (1947.999, 2011.0]   \n",
       "3          TOYOTA  (1375977.0, 1725000.0]    (2011.0, 2013.0]   \n",
       "10        HYUNDAI   (19999.999, 450000.0]  (1947.999, 2011.0]   \n",
       "11        RENAULT   (19999.999, 450000.0]    (2011.0, 2013.0]   \n",
       "...           ...                     ...                 ...   \n",
       "61256  VOLKSWAGEN   (847000.0, 1099000.0]    (2018.0, 2021.0]   \n",
       "61277  VOLKSWAGEN   (19999.999, 450000.0]  (1947.999, 2011.0]   \n",
       "61283  VOLKSWAGEN  (2987400.0, 4250163.4]    (2016.0, 2018.0]   \n",
       "61284  VOLKSWAGEN    (649000.0, 847000.0]    (2016.0, 2018.0]   \n",
       "61291  VOLKSWAGEN    (450000.0, 649000.0]    (2013.0, 2016.0]   \n",
       "\n",
       "               mileage_group eng_volume horsepower empty horsepower_group  \n",
       "0        (82653.4, 100492.0]        2.0        190         (150.0, 190.0]  \n",
       "1       (121799.6, 143319.4]        1.8        144         (116.0, 150.0]  \n",
       "3         (64000.0, 82653.4]        2.0        146         (116.0, 150.0]  \n",
       "10      (171025.0, 217592.0]        1.5        102        (26.999, 116.0]  \n",
       "11     (217592.0, 1000000.0]        1.4         75        (26.999, 116.0]  \n",
       "...                      ...        ...        ...   ...              ...  \n",
       "61256       (0.999, 20400.0]        1.6        110        (26.999, 116.0]  \n",
       "61277   (171025.0, 217592.0]        1.4         75        (26.999, 116.0]  \n",
       "61283     (64000.0, 82653.4]        3.6        249         (190.0, 249.0]  \n",
       "61284     (43796.0, 64000.0]        1.6        110        (26.999, 116.0]  \n",
       "61291    (82653.4, 100492.0]        1.6        105        (26.999, 116.0]  \n",
       "\n",
       "[3739 rows x 25 columns]"
      ]
     },
     "execution_count": 90,
     "metadata": {},
     "output_type": "execute_result"
    }
   ],
   "source": [
    "data[data['params2']=='no_info']"
   ]
  },
  {
   "cell_type": "code",
   "execution_count": 91,
   "id": "b8add7dd",
   "metadata": {},
   "outputs": [
    {
     "data": {
      "text/plain": [
       "Возможен обмен         11054\n",
       "Кредит                  3911\n",
       "no_info                 3739\n",
       "Идеальное состояние     2061\n",
       "C пробегом              1369\n",
       "Дилер                    984\n",
       "Собственник              845\n",
       "Срочный выкуп            738\n",
       "Name: params2, dtype: int64"
      ]
     },
     "execution_count": 91,
     "metadata": {},
     "output_type": "execute_result"
    }
   ],
   "source": [
    "data.params2.value_counts()"
   ]
  },
  {
   "cell_type": "code",
   "execution_count": 93,
   "id": "4de4ba3a",
   "metadata": {},
   "outputs": [],
   "source": [
    "data1=data[['brand','price',              'year',\n",
    "                 'mileage',              'type',             'color',\n",
    "                     'engine',      'transmission',\n",
    "              'drive_unit',             'wheel',       'v_condition',\n",
    "                  'owners',          'passport', 'customs_clearance',\n",
    "                \n",
    "              'eng_volume',        'horsepower']]"
   ]
  },
  {
   "cell_type": "code",
   "execution_count": 94,
   "id": "19aab38a",
   "metadata": {},
   "outputs": [],
   "source": [
    "data.to_csv('AUTO1.csv')"
   ]
  },
  {
   "cell_type": "markdown",
   "id": "a5ff6f6e",
   "metadata": {},
   "source": [
    "Дальнешее EDA я проведу уже совместно с тестовым датасетом на Kaggle"
   ]
  }
 ],
 "metadata": {
  "kernelspec": {
   "display_name": "Python 3",
   "language": "python",
   "name": "python3"
  },
  "language_info": {
   "codemirror_mode": {
    "name": "ipython",
    "version": 3
   },
   "file_extension": ".py",
   "mimetype": "text/x-python",
   "name": "python",
   "nbconvert_exporter": "python",
   "pygments_lexer": "ipython3",
   "version": "3.8.8"
  }
 },
 "nbformat": 4,
 "nbformat_minor": 5
}
